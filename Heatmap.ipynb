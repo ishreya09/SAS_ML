{
 "cells": [
  {
   "attachments": {},
   "cell_type": "markdown",
   "metadata": {},
   "source": [
    "# Detecting Damage according to Co-ordinates\n",
    "\n",
    "We need to generate the Normalized Difference Water Index (NDWI), Normalized Difference Vegetation Index (NDVI), or texture analysis\n",
    "\n",
    "NDVI (Normalized Difference Vegetation Index) and NDWI (Normalized Difference Water Index) are both indices commonly used to analyze satellite imagery data for environmental monitoring.\n",
    "\n",
    "To calculate NDVI, you need to follow these steps:\n",
    "\n",
    "Obtain satellite images, ideally with at least two different spectral bands, red (R) and near-infrared (NIR).\n",
    "\n",
    "Compute NDVI using the following formula:\n",
    "\n",
    "NDVI = (NIR - R) / (NIR + R)\n",
    "\n",
    "where NIR is the reflectance in the near-infrared band, and R is the reflectance in the red band.\n",
    "\n",
    "The resulting values of NDVI will range between -1 and +1, with negative values indicating no vegetation and positive values indicating the presence of vegetation.\n",
    "\n",
    "To calculate NDWI, you need to follow these steps:\n",
    "\n",
    "Obtain satellite images, ideally with at least two different spectral bands, green (G) and near-infrared (NIR).\n",
    "\n",
    "Compute NDWI using the following formula:\n",
    "\n",
    "NDWI = (G - NIR) / (G + NIR)\n",
    "\n",
    "where NIR is the reflectance in the near-infrared band, and G is the reflectance in the green band.\n",
    "\n",
    "The resulting values of NDWI will range between -1 and +1, with negative values indicating no water and positive values indicating the presence of water."
   ]
  },
  {
   "cell_type": "code",
   "execution_count": 2,
   "metadata": {},
   "outputs": [],
   "source": [
    "# import libs\n",
    "\n",
    "import pandas as pd\n",
    "import numpy as np\n",
    "import matplotlib.pyplot as plt\n",
    "import cv2\n",
    "import rasterio as rio\n",
    "from PIL import Image"
   ]
  },
  {
   "cell_type": "code",
   "execution_count": 3,
   "metadata": {},
   "outputs": [],
   "source": [
    "def load_img(img_filepath):\n",
    "    '''load an image'''\n",
    "    with rio.open(img_filepath) as src:\n",
    "        src.read()\n",
    "    return src\n",
    "\n",
    "def red_band(img): # rio image\n",
    "    '''returns the red band of a rio image'''\n",
    "    \n",
    "    # return red_band"
   ]
  },
  {
   "cell_type": "code",
   "execution_count": 5,
   "metadata": {},
   "outputs": [
    {
     "name": "stdout",
     "output_type": "stream",
     "text": [
      "0\n",
      "Red band description: None\n",
      "Red band dtype: float32\n"
     ]
    }
   ],
   "source": [
    "path= \"sen12flood\\\\sen12floods_s1_source\\\\sen12floods_s1_source\\\\sen12floods_s1_source_0_2019_02_18\\\\VV.tif\"\n",
    "with rio.open(path) as src:\n",
    "    red_band(src)\n"
   ]
  },
  {
   "cell_type": "code",
   "execution_count": 8,
   "metadata": {},
   "outputs": [],
   "source": []
  },
  {
   "cell_type": "code",
   "execution_count": null,
   "metadata": {},
   "outputs": [],
   "source": [
    "# OpenCV Canny Edge\n",
    "\n",
    "# import libs\n"
   ]
  }
 ],
 "metadata": {
  "kernelspec": {
   "display_name": "Python 3",
   "language": "python",
   "name": "python3"
  },
  "language_info": {
   "codemirror_mode": {
    "name": "ipython",
    "version": 3
   },
   "file_extension": ".py",
   "mimetype": "text/x-python",
   "name": "python",
   "nbconvert_exporter": "python",
   "pygments_lexer": "ipython3",
   "version": "3.10.0"
  },
  "orig_nbformat": 4
 },
 "nbformat": 4,
 "nbformat_minor": 2
}
