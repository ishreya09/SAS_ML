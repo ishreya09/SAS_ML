{
 "cells": [
  {
   "cell_type": "code",
   "execution_count": 1,
   "metadata": {},
   "outputs": [],
   "source": [
    "import pandas as pd\n",
    "import numpy as np\n",
    "import matplotlib.pyplot as plt\n"
   ]
  },
  {
   "cell_type": "code",
   "execution_count": 2,
   "metadata": {},
   "outputs": [],
   "source": [
    "s1 = pd.read_csv('s1_data.csv')\n",
    "s2 = pd.read_csv('s2_data.csv')"
   ]
  },
  {
   "cell_type": "code",
   "execution_count": 3,
   "metadata": {},
   "outputs": [],
   "source": [
    "# sort s1 and s2 by date \n",
    "s1 = s1.sort_values(by=['date'])\n",
    "s2 = s2.sort_values(by=['date'])"
   ]
  },
  {
   "cell_type": "code",
   "execution_count": 4,
   "metadata": {},
   "outputs": [
    {
     "data": {
      "text/html": [
       "<div>\n",
       "<style scoped>\n",
       "    .dataframe tbody tr th:only-of-type {\n",
       "        vertical-align: middle;\n",
       "    }\n",
       "\n",
       "    .dataframe tbody tr th {\n",
       "        vertical-align: top;\n",
       "    }\n",
       "\n",
       "    .dataframe thead th {\n",
       "        text-align: right;\n",
       "    }\n",
       "</style>\n",
       "<table border=\"1\" class=\"dataframe\">\n",
       "  <thead>\n",
       "    <tr style=\"text-align: right;\">\n",
       "      <th></th>\n",
       "      <th>geometry</th>\n",
       "      <th>label</th>\n",
       "      <th>date</th>\n",
       "      <th>tile_number</th>\n",
       "      <th>id</th>\n",
       "      <th>location_id</th>\n",
       "      <th>image_dir</th>\n",
       "    </tr>\n",
       "  </thead>\n",
       "  <tbody>\n",
       "    <tr>\n",
       "      <th>131</th>\n",
       "      <td>[[[30.033794, -1.947753], [30.033877, -1.99400...</td>\n",
       "      <td>0</td>\n",
       "      <td>2018-12-15</td>\n",
       "      <td>25</td>\n",
       "      <td>sen12floods_s1_labels_0025_2018_12_15</td>\n",
       "      <td>25</td>\n",
       "      <td>sen12flood/sen12floods_s1_source/sen12floods_s...</td>\n",
       "    </tr>\n",
       "    <tr>\n",
       "      <th>121</th>\n",
       "      <td>[[[30.125653, -1.901331], [30.125737, -1.94758...</td>\n",
       "      <td>0</td>\n",
       "      <td>2018-12-15</td>\n",
       "      <td>24</td>\n",
       "      <td>sen12floods_s1_labels_0024_2018_12_15</td>\n",
       "      <td>24</td>\n",
       "      <td>sen12flood/sen12floods_s1_source/sen12floods_s...</td>\n",
       "    </tr>\n",
       "    <tr>\n",
       "      <th>141</th>\n",
       "      <td>[[[30.079766, -1.947669], [30.079851, -1.99392...</td>\n",
       "      <td>0</td>\n",
       "      <td>2018-12-15</td>\n",
       "      <td>26</td>\n",
       "      <td>sen12floods_s1_labels_0026_2018_12_15</td>\n",
       "      <td>26</td>\n",
       "      <td>sen12flood/sen12floods_s1_source/sen12floods_s...</td>\n",
       "    </tr>\n",
       "    <tr>\n",
       "      <th>101</th>\n",
       "      <td>[[[30.033712, -1.901496], [30.033794, -1.94775...</td>\n",
       "      <td>0</td>\n",
       "      <td>2018-12-15</td>\n",
       "      <td>22</td>\n",
       "      <td>sen12floods_s1_labels_0022_2018_12_15</td>\n",
       "      <td>22</td>\n",
       "      <td>sen12flood/sen12floods_s1_source/sen12floods_s...</td>\n",
       "    </tr>\n",
       "    <tr>\n",
       "      <th>111</th>\n",
       "      <td>[[[30.079683, -1.901415], [30.079766, -1.94766...</td>\n",
       "      <td>0</td>\n",
       "      <td>2018-12-15</td>\n",
       "      <td>23</td>\n",
       "      <td>sen12floods_s1_labels_0023_2018_12_15</td>\n",
       "      <td>23</td>\n",
       "      <td>sen12flood/sen12floods_s1_source/sen12floods_s...</td>\n",
       "    </tr>\n",
       "  </tbody>\n",
       "</table>\n",
       "</div>"
      ],
      "text/plain": [
       "                                              geometry  label        date  \\\n",
       "131  [[[30.033794, -1.947753], [30.033877, -1.99400...      0  2018-12-15   \n",
       "121  [[[30.125653, -1.901331], [30.125737, -1.94758...      0  2018-12-15   \n",
       "141  [[[30.079766, -1.947669], [30.079851, -1.99392...      0  2018-12-15   \n",
       "101  [[[30.033712, -1.901496], [30.033794, -1.94775...      0  2018-12-15   \n",
       "111  [[[30.079683, -1.901415], [30.079766, -1.94766...      0  2018-12-15   \n",
       "\n",
       "     tile_number                                     id  location_id  \\\n",
       "131           25  sen12floods_s1_labels_0025_2018_12_15           25   \n",
       "121           24  sen12floods_s1_labels_0024_2018_12_15           24   \n",
       "141           26  sen12floods_s1_labels_0026_2018_12_15           26   \n",
       "101           22  sen12floods_s1_labels_0022_2018_12_15           22   \n",
       "111           23  sen12floods_s1_labels_0023_2018_12_15           23   \n",
       "\n",
       "                                             image_dir  \n",
       "131  sen12flood/sen12floods_s1_source/sen12floods_s...  \n",
       "121  sen12flood/sen12floods_s1_source/sen12floods_s...  \n",
       "141  sen12flood/sen12floods_s1_source/sen12floods_s...  \n",
       "101  sen12flood/sen12floods_s1_source/sen12floods_s...  \n",
       "111  sen12flood/sen12floods_s1_source/sen12floods_s...  "
      ]
     },
     "execution_count": 4,
     "metadata": {},
     "output_type": "execute_result"
    }
   ],
   "source": [
    "s1.head()"
   ]
  },
  {
   "cell_type": "code",
   "execution_count": 5,
   "metadata": {},
   "outputs": [],
   "source": [
    "!mkdir TimewiseCSV"
   ]
  },
  {
   "cell_type": "code",
   "execution_count": 7,
   "metadata": {},
   "outputs": [],
   "source": [
    "# for same date create csv files\n",
    "base_path= \"TimewiseCSV\\\\\"\n",
    "k={}\n",
    "for i in range(len(s1)):\n",
    "    date = s1['date'][i]\n",
    "    k[date]=0\n",
    "    k[date]+=1\n",
    "    s1_date = s1[s1['date']==date]\n",
    "    s2_date = s2[s2['date']==date]\n",
    "    if(k[date]==1):\n",
    "        s1_date.to_csv(base_path+str(date)+'_s1.csv',index=False)\n",
    "        s2_date.to_csv(base_path+str(date)+'_s2.csv',index=False)\n"
   ]
  },
  {
   "cell_type": "code",
   "execution_count": null,
   "metadata": {},
   "outputs": [],
   "source": []
  }
 ],
 "metadata": {
  "kernelspec": {
   "display_name": "Python 3",
   "language": "python",
   "name": "python3"
  },
  "language_info": {
   "codemirror_mode": {
    "name": "ipython",
    "version": 3
   },
   "file_extension": ".py",
   "mimetype": "text/x-python",
   "name": "python",
   "nbconvert_exporter": "python",
   "pygments_lexer": "ipython3",
   "version": "3.10.0"
  },
  "orig_nbformat": 4
 },
 "nbformat": 4,
 "nbformat_minor": 2
}
